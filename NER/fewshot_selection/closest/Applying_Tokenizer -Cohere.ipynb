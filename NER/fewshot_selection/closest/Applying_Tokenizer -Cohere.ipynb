{
 "cells": [
  {
   "cell_type": "code",
   "execution_count": 1,
   "id": "fcb7028f-bf7e-42b1-a93e-efe426c7bb97",
   "metadata": {},
   "outputs": [],
   "source": [
    "from tokenizing_cod import *"
   ]
  },
  {
   "cell_type": "code",
   "execution_count": 2,
   "id": "bb6e506a-d466-49e4-ac03-4a77bff38903",
   "metadata": {},
   "outputs": [],
   "source": [
    "import os\n",
    "import numpy as np"
   ]
  },
  {
   "cell_type": "code",
   "execution_count": 4,
   "id": "aa871175-b1f0-48a3-bdb1-42725180f0d2",
   "metadata": {},
   "outputs": [],
   "source": [
    "root = '/home/cz/'"
   ]
  },
  {
   "cell_type": "code",
   "execution_count": 5,
   "id": "4fe526f1-a65d-4a62-a3d0-ca3cfff163cc",
   "metadata": {},
   "outputs": [],
   "source": [
    "pathx = os.path.join(root, 'mds3/REN/datasets_zeroshot/prepared')"
   ]
  },
  {
   "cell_type": "code",
   "execution_count": 6,
   "id": "944ed1b4-84fc-4bb8-b094-f7996a76dc3e",
   "metadata": {},
   "outputs": [],
   "source": [
    "texts_train = np.load(pathx+'/texts_train_v1.npy',allow_pickle=True)"
   ]
  },
  {
   "cell_type": "code",
   "execution_count": 7,
   "id": "b769a90b-af26-42c1-96ca-b1457b4a82c6",
   "metadata": {},
   "outputs": [],
   "source": [
    "texts_test = np.load(pathx+'/texts_test_v1.npy',allow_pickle=True)"
   ]
  },
  {
   "cell_type": "code",
   "execution_count": 8,
   "id": "e7fda784-7203-4dba-ac67-051cc8b4a22c",
   "metadata": {},
   "outputs": [],
   "source": [
    "path2save = os.path.join(root, 'mds3/REN/few-shot/tokenizers/tokenized/Cohere')\n",
    "os.makedirs(path2save, exist_ok=True)"
   ]
  },
  {
   "cell_type": "code",
   "execution_count": 9,
   "id": "505196a5-c478-4a50-8236-3aaea0222410",
   "metadata": {},
   "outputs": [
    {
     "name": "stderr",
     "output_type": "stream",
     "text": [
      "100%|██████████| 98/98 [00:01<00:00, 79.38it/s] "
     ]
    },
    {
     "name": "stdout",
     "output_type": "stream",
     "text": [
      "ALL SAVED\n"
     ]
    },
    {
     "name": "stderr",
     "output_type": "stream",
     "text": [
      "\n"
     ]
    }
   ],
   "source": [
    "tokenizing_samples_cohere(texts= texts_train,kind='train', path2save=path2save)"
   ]
  },
  {
   "cell_type": "code",
   "execution_count": 10,
   "id": "1689a824-b51c-4f1d-b98c-36ac1de42748",
   "metadata": {},
   "outputs": [
    {
     "name": "stderr",
     "output_type": "stream",
     "text": [
      "100%|██████████| 64/64 [00:00<00:00, 670.71it/s]"
     ]
    },
    {
     "name": "stdout",
     "output_type": "stream",
     "text": [
      "ALL SAVED\n"
     ]
    },
    {
     "name": "stderr",
     "output_type": "stream",
     "text": [
      "\n"
     ]
    }
   ],
   "source": [
    "tokenizing_samples_cohere(texts= texts_test,kind='test', path2save=path2save)"
   ]
  }
 ],
 "metadata": {
  "kernelspec": {
   "display_name": "transf",
   "language": "python",
   "name": "transf"
  },
  "language_info": {
   "codemirror_mode": {
    "name": "ipython",
    "version": 3
   },
   "file_extension": ".py",
   "mimetype": "text/x-python",
   "name": "python",
   "nbconvert_exporter": "python",
   "pygments_lexer": "ipython3",
   "version": "3.10.12"
  }
 },
 "nbformat": 4,
 "nbformat_minor": 5
}
