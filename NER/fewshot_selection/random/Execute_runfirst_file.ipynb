{
 "cells": [
  {
   "cell_type": "code",
   "execution_count": 11,
   "id": "cd099a93-ead8-4081-96fa-85191ca7280e",
   "metadata": {},
   "outputs": [],
   "source": [
    "import os\n",
    "import pandas as pd\n",
    "import numpy as np\n",
    "import random"
   ]
  },
  {
   "cell_type": "code",
   "execution_count": 12,
   "id": "52164cbe-5f0c-429b-a419-9597f669c1d7",
   "metadata": {},
   "outputs": [],
   "source": [
    "from run_fist_under_fewshot import *"
   ]
  },
  {
   "cell_type": "code",
   "execution_count": 13,
   "id": "ff16fc85-4036-4e7f-a6fa-b2b15e3d1eae",
   "metadata": {},
   "outputs": [],
   "source": [
    "root = '/home/cz/'"
   ]
  },
  {
   "cell_type": "code",
   "execution_count": 14,
   "id": "a7c68ec3-bdc2-4542-b953-291e0534f09e",
   "metadata": {},
   "outputs": [],
   "source": [
    "pathx = os.path.join(root, 'mds3/REN/datasets_zeroshot/prepared')"
   ]
  },
  {
   "cell_type": "code",
   "execution_count": 15,
   "id": "63e6a125-2f6f-4d62-996d-bc178848533d",
   "metadata": {},
   "outputs": [],
   "source": [
    "texts_train =  np.load(pathx+'/texts_train_v1.npy',allow_pickle=True)"
   ]
  },
  {
   "cell_type": "code",
   "execution_count": 16,
   "id": "d616dc8c-f07c-4feb-b54b-3f16b49cfe7e",
   "metadata": {},
   "outputs": [],
   "source": [
    "labels_train = np.load(pathx+'/labels_train_v1.npy',allow_pickle=True).item()"
   ]
  },
  {
   "cell_type": "code",
   "execution_count": 17,
   "id": "727a8d74-5dbd-4cdf-933a-e956025883ef",
   "metadata": {},
   "outputs": [],
   "source": [
    "nfewshot_value = 1"
   ]
  },
  {
   "cell_type": "code",
   "execution_count": 18,
   "id": "54fce630-5040-4c7d-8cfe-030fda58363c",
   "metadata": {},
   "outputs": [],
   "source": [
    "f = fewshot_samples(texts_train, labels_train, nfewshot_value, path2save = os.path.join(root,'mds3/REN/datasets_zeroshot/prepared/fewshot/'))"
   ]
  },
  {
   "cell_type": "code",
   "execution_count": 19,
   "id": "92717c7a-6098-4c90-a159-e5f66dafb30d",
   "metadata": {},
   "outputs": [],
   "source": [
    "path2save = os.path.join(root,'mds3/REN/datasets_zeroshot/prepared/fewshot/')"
   ]
  },
  {
   "cell_type": "code",
   "execution_count": 20,
   "id": "29a797c7-2b6b-43af-b287-6bcd4d9a57bb",
   "metadata": {
    "scrolled": true
   },
   "outputs": [],
   "source": [
    "#np.load(os.path.join(path2save, f'amostras_selecionadas_{nfewshot_value}.npy'),allow_pickle=True)"
   ]
  }
 ],
 "metadata": {
  "kernelspec": {
   "display_name": "transf",
   "language": "python",
   "name": "transf"
  },
  "language_info": {
   "codemirror_mode": {
    "name": "ipython",
    "version": 3
   },
   "file_extension": ".py",
   "mimetype": "text/x-python",
   "name": "python",
   "nbconvert_exporter": "python",
   "pygments_lexer": "ipython3",
   "version": "3.10.12"
  }
 },
 "nbformat": 4,
 "nbformat_minor": 5
}
