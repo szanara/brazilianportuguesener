{
 "cells": [
  {
   "cell_type": "code",
   "execution_count": 1,
   "id": "f017e2d9-f74b-4877-b05e-68debb2b9c04",
   "metadata": {},
   "outputs": [],
   "source": [
    "#!pip install gliner"
   ]
  },
  {
   "cell_type": "code",
   "execution_count": 2,
   "id": "b2e6e110-0577-4324-94b7-5d405d94ae87",
   "metadata": {},
   "outputs": [],
   "source": [
    "def metrics(y_pred_set, y_true_set):\n",
    "    # Converter listas para conjuntos para usar as operações de interseção e diferença\n",
    "    y_pred_set = set(tuple(sorted(pair)) for pair in y_pred_set)\n",
    "    y_true_set = set(tuple(sorted(pair)) for pair in y_true_set)\n",
    "    \n",
    "    TP = len(y_pred_set & y_true_set)  # Interseção entre predições corretas e verdadeiras\n",
    "    FP = len(y_pred_set - y_true_set)  # Predições incorretas (falsos positivos)\n",
    "    FN = len(y_true_set - y_pred_set)  # Entidades verdadeiras não preditas (falsos negativos)\n",
    "\n",
    "    # Calcular as métricas\n",
    "    precision = TP / (TP + FP) if (TP + FP) > 0 else 0\n",
    "    recall = TP / (TP + FN) if (TP + FN) > 0 else 0\n",
    "    f1 = 2 * (precision * recall) / (precision + recall) if (precision + recall) > 0 else 0\n",
    "\n",
    "    return precision, recall, f1\n"
   ]
  },
  {
   "cell_type": "code",
   "execution_count": 3,
   "id": "f2d5e279-1cbc-4291-985f-9e23af3a6ecc",
   "metadata": {},
   "outputs": [
    {
     "name": "stderr",
     "output_type": "stream",
     "text": [
      "/home/cz/.local/lib/python3.10/site-packages/tqdm/auto.py:21: TqdmWarning: IProgress not found. Please update jupyter and ipywidgets. See https://ipywidgets.readthedocs.io/en/stable/user_install.html\n",
      "  from .autonotebook import tqdm as notebook_tqdm\n"
     ]
    }
   ],
   "source": [
    "import torch\n",
    "from gliner import GLiNER"
   ]
  },
  {
   "cell_type": "code",
   "execution_count": 4,
   "id": "3baf9b40-daba-4638-b4a2-cc82c8a9ed99",
   "metadata": {
    "scrolled": true
   },
   "outputs": [
    {
     "name": "stderr",
     "output_type": "stream",
     "text": [
      "Fetching 10 files: 100%|██████████| 10/10 [00:00<00:00, 258907.65it/s]\n"
     ]
    }
   ],
   "source": [
    "# first load your model\n",
    "\n",
    "model = GLiNER.from_pretrained(\"gliner-community/gliner_medium-v2.5\")"
   ]
  },
  {
   "cell_type": "code",
   "execution_count": 5,
   "id": "c25fbf7b-b10c-4808-995e-2431f6c0356f",
   "metadata": {},
   "outputs": [],
   "source": [
    "# save\n",
    "\n",
    "model.save_pretrained(\"gliner_Med\")"
   ]
  },
  {
   "cell_type": "code",
   "execution_count": 6,
   "id": "f46d16c1-ab18-4300-b21f-e78c1da81df3",
   "metadata": {},
   "outputs": [
    {
     "name": "stderr",
     "output_type": "stream",
     "text": [
      "config.json not found in /home/cz/mds3/REN/gliner_Med\n"
     ]
    }
   ],
   "source": [
    "# load\n",
    "\n",
    "loaded_model = GLiNER.from_pretrained(\"gliner_Med\", load_tokenizer = True, local_files_only=True)"
   ]
  },
  {
   "cell_type": "markdown",
   "id": "af5ac380-4c0b-4343-9e6f-2018a5ec6d9d",
   "metadata": {},
   "source": [
    "# LoadingData"
   ]
  },
  {
   "cell_type": "code",
   "execution_count": 7,
   "id": "6e45d30f-c4ba-44ac-9475-6bd404c63e53",
   "metadata": {},
   "outputs": [],
   "source": [
    "import os\n",
    "import numpy as np\n",
    "from tqdm import tqdm"
   ]
  },
  {
   "cell_type": "code",
   "execution_count": 8,
   "id": "3129d50b-595d-4f65-ba94-ce45e5485d47",
   "metadata": {},
   "outputs": [],
   "source": [
    "root = ''"
   ]
  },
  {
   "cell_type": "code",
   "execution_count": 9,
   "id": "80025249-6787-4fe2-bb34-594f25dd2b13",
   "metadata": {},
   "outputs": [],
   "source": [
    "path = os.path.join(root, '')"
   ]
  },
  {
   "cell_type": "code",
   "execution_count": 10,
   "id": "d8929f8e-a461-4266-ba41-b339df6953b6",
   "metadata": {},
   "outputs": [],
   "source": [
    "texts = np.load(path+'/texts_test_v1.npy',allow_pickle=True)"
   ]
  },
  {
   "cell_type": "code",
   "execution_count": 11,
   "id": "8868af8e-2cbb-40f0-ab59-1fad3adb4f94",
   "metadata": {},
   "outputs": [],
   "source": [
    "targets =  np.load(path+'/labels_test_v1.npy',allow_pickle=True).item()"
   ]
  },
  {
   "cell_type": "markdown",
   "id": "e057d7ec-1756-4c97-a1d9-e5fdcb60e20a",
   "metadata": {},
   "source": [
    "## Testing"
   ]
  },
  {
   "cell_type": "code",
   "execution_count": 13,
   "id": "64b6bd88-c15e-4dd7-a9d2-acff841c9b65",
   "metadata": {
    "scrolled": true
   },
   "outputs": [
    {
     "name": "stderr",
     "output_type": "stream",
     "text": [
      "  2%|▏         | 1/64 [00:00<00:18,  3.34it/s]"
     ]
    },
    {
     "name": "stdout",
     "output_type": "stream",
     "text": [
      "Arezzo => ORG\n",
      "Soma => ORG\n",
      "Hering => ORG\n",
      "Hering => ORG\n",
      "Soma => ORG\n",
      "Hering => ORG\n",
      "Hering => ORG\n",
      "Yara => ORG\n",
      "Associação Brasileira de Proteína Animal => ORG\n",
      "ABPA => ORG\n",
      "Rio Grande do Sul => LOC\n",
      "Santa Catarina => LOC\n"
     ]
    },
    {
     "name": "stderr",
     "output_type": "stream",
     "text": [
      "  5%|▍         | 3/64 [00:00<00:13,  4.46it/s]"
     ]
    },
    {
     "name": "stdout",
     "output_type": "stream",
     "text": [
      "Banco Mundial => PESSOA\n",
      "Fundo Monetário Internacional => PESSOA\n",
      "FMI => PESSOA\n",
      "Valor => PESSOA\n",
      "Center for Macroeconomics and Development => PESSOA\n",
      "Ministério da Fazenda => PESSOA\n",
      "Valor => PESSOA\n"
     ]
    },
    {
     "name": "stderr",
     "output_type": "stream",
     "text": [
      "  6%|▋         | 4/64 [00:00<00:15,  3.97it/s]"
     ]
    },
    {
     "name": "stdout",
     "output_type": "stream",
     "text": [
      "Campinas => LOC\n",
      "Coleção Patricia Phelps de Cisneros => ORG\n",
      "São Paulo => LOC\n",
      "Casa Triângulo => ORG\n",
      "São Paulo => LOC\n",
      "Pavilhão Ciccillo => PESSOA\n"
     ]
    },
    {
     "name": "stderr",
     "output_type": "stream",
     "text": [
      "  8%|▊         | 5/64 [00:01<00:16,  3.48it/s]"
     ]
    },
    {
     "name": "stdout",
     "output_type": "stream",
     "text": [
      "Senado => PESSOA\n",
      "Presidência => LOC\n",
      "Palácio do Planalto => PESSOA\n",
      "Brasil => LOC\n"
     ]
    },
    {
     "name": "stderr",
     "output_type": "stream",
     "text": [
      "  9%|▉         | 6/64 [00:01<00:17,  3.35it/s]"
     ]
    },
    {
     "name": "stdout",
     "output_type": "stream",
     "text": [
      "Bolsa Família => PESSOA\n",
      "Bolsa Família => PESSOA\n",
      "Bolsa Família => PESSOA\n",
      "Brasil => ORG\n",
      "Maceió => LOC\n",
      "Bolsa Família => PESSOA\n",
      "Cadastro Único => PESSOA\n",
      "Estado => ORG\n",
      "Estado => ORG\n",
      "Estado => ORG\n",
      "Orçamento => PESSOA\n"
     ]
    },
    {
     "name": "stderr",
     "output_type": "stream",
     "text": [
      " 11%|█         | 7/64 [00:01<00:17,  3.29it/s]"
     ]
    },
    {
     "name": "stdout",
     "output_type": "stream",
     "text": [
      "MAP => ORG\n",
      "Bad => ORG\n",
      "Jacarezinho => LOC\n",
      "Jacarezinho => LOC\n",
      "Estadão => ORG\n",
      "Twitter => ORG\n",
      "Facebook => ORG\n"
     ]
    },
    {
     "name": "stderr",
     "output_type": "stream",
     "text": [
      " 12%|█▎        | 8/64 [00:02<00:17,  3.12it/s]"
     ]
    },
    {
     "name": "stdout",
     "output_type": "stream",
     "text": [
      "Supremo Tribunal Federal => ORG\n",
      "Tribunal Superior Eleitoral => ORG\n",
      "PF => ORG\n",
      "Supremo => ORG\n"
     ]
    },
    {
     "name": "stderr",
     "output_type": "stream",
     "text": [
      " 14%|█▍        | 9/64 [00:02<00:18,  3.01it/s]"
     ]
    },
    {
     "name": "stdout",
     "output_type": "stream",
     "text": [
      "Israel => LOC\n",
      "Universidade Bocconi => ORG\n",
      "T20 => PESSOA\n",
      "G20 => PESSOA\n",
      "Declaração de Salamanca => PESSOA\n"
     ]
    },
    {
     "name": "stderr",
     "output_type": "stream",
     "text": [
      " 16%|█▌        | 10/64 [00:03<00:17,  3.03it/s]"
     ]
    },
    {
     "name": "stdout",
     "output_type": "stream",
     "text": [
      "St. Paul => LOC\n",
      "Minnesota => LOC\n"
     ]
    },
    {
     "name": "stderr",
     "output_type": "stream",
     "text": [
      " 17%|█▋        | 11/64 [00:03<00:17,  2.99it/s]"
     ]
    },
    {
     "name": "stdout",
     "output_type": "stream",
     "text": [
      "CPI => ORG\n",
      "CPI => ORG\n",
      "Alhambra => ORG\n"
     ]
    },
    {
     "name": "stderr",
     "output_type": "stream",
     "text": [
      " 20%|██        | 13/64 [00:03<00:13,  3.67it/s]"
     ]
    },
    {
     "name": "stdout",
     "output_type": "stream",
     "text": [
      "Facebook => ORG\n",
      "Universidade Hebraica de Jerusalém => PESSOA\n",
      "Ra'am => PESSOA\n",
      "Parlamento => PESSOA\n",
      "Pfizer => ORG\n",
      "Governo federal => ORG\n",
      "Brasil => PESSOA\n",
      "BNDES => ORG\n"
     ]
    },
    {
     "name": "stderr",
     "output_type": "stream",
     "text": [
      " 23%|██▎       | 15/64 [00:04<00:11,  4.36it/s]"
     ]
    },
    {
     "name": "stdout",
     "output_type": "stream",
     "text": [
      "PSol => PESSOA\n",
      "PRP => PESSOA\n",
      "Republicanos => PESSOA\n",
      "PRP => PESSOA\n",
      "Polícia Federal => PESSOA\n",
      "Junta Comercial do Estado da Bahia => LOC\n",
      "Administração Pública => PESSOA\n",
      "Polícia Federal => PESSOA\n"
     ]
    },
    {
     "name": "stderr",
     "output_type": "stream",
     "text": [
      " 25%|██▌       | 16/64 [00:04<00:12,  3.75it/s]"
     ]
    },
    {
     "name": "stdout",
     "output_type": "stream",
     "text": [
      "Pernambuco => LOC\n",
      "Recife => LOC\n",
      "Paulista => LOC\n",
      "Jaboatão dos Guararapes => LOC\n",
      "Olinda => LOC\n",
      "Camaragibe => LOC\n",
      "Carpina => LOC\n",
      "Cabo de Santo Agostinho => LOC\n",
      "Pernambuco => LOC\n",
      "PE => LOC\n",
      "Recife => LOC\n",
      "Recife => LOC\n",
      "Recife => LOC\n",
      "Recife => LOC\n",
      "Porcogate => ORG\n",
      "Cabo de Santo Agostinho => LOC\n",
      "Olinda => LOC\n",
      "Paulista => LOC\n",
      "Recife => LOC\n",
      "Cabo de Santo Agostinho => LOC\n",
      "Olinda => LOC\n",
      "Paulista => LOC\n"
     ]
    },
    {
     "name": "stderr",
     "output_type": "stream",
     "text": [
      " 27%|██▋       | 17/64 [00:04<00:12,  3.77it/s]"
     ]
    },
    {
     "name": "stdout",
     "output_type": "stream",
     "text": [
      "PSC => ORG\n",
      "STJ => ORG\n"
     ]
    },
    {
     "name": "stderr",
     "output_type": "stream",
     "text": [
      " 28%|██▊       | 18/64 [00:05<00:12,  3.69it/s]"
     ]
    },
    {
     "name": "stdout",
     "output_type": "stream",
     "text": [
      "Sindicato dos Auditores Fiscais de Tributos de Rondônia => PESSOA\n",
      "Sindafisco => PESSOA\n",
      "Sindicato dos Técnicos Tributários do Estado => PESSOA\n",
      "Sintec => PESSOA\n",
      "Secretaria de Finanças de Rondônia => PESSOA\n",
      "Sefin => PESSOA\n",
      "Estado de Rondônia => LOC\n",
      "Porto Velho => LOC\n",
      "Candeias do Jamari => LOC\n",
      "SEFIN => PESSOA\n",
      "Estado de Rondônia => LOC\n",
      "Governo do Estado => ORG\n",
      "Sefin => PESSOA\n",
      "Sindafisco => PESSOA\n",
      "Fisco => PESSOA\n",
      "Sintec => PESSOA\n"
     ]
    },
    {
     "name": "stderr",
     "output_type": "stream",
     "text": [
      " 30%|██▉       | 19/64 [00:05<00:12,  3.54it/s]"
     ]
    },
    {
     "name": "stdout",
     "output_type": "stream",
     "text": [
      "Secretaria Municipal de Trabalho e Ação Social => ORG\n",
      "Jornal Gazeta => ORG\n",
      "Diário Oficial dos Municípios => ORG\n",
      "AROM => ORG\n",
      "Câmara Municipal => ORG\n",
      "Zona da Mata => PESSOA\n"
     ]
    },
    {
     "name": "stderr",
     "output_type": "stream",
     "text": [
      " 31%|███▏      | 20/64 [00:05<00:13,  3.34it/s]"
     ]
    },
    {
     "name": "stdout",
     "output_type": "stream",
     "text": [
      "AdC => ORG\n",
      "Liga Portuguesa de Futebol Profissional => ORG\n",
      "Primeira e Segunda Ligas => ORG\n",
      "AdC => ORG\n",
      "AdC => ORG\n",
      "LPFP => ORG\n",
      "AdC => ORG\n",
      "AdC => ORG\n",
      "LPFP => ORG\n",
      "Segunda Ligas => ORG\n",
      "LPFP => ORG\n",
      "AdC => ORG\n",
      "AdC => ORG\n",
      "AdC => ORG\n",
      "Liga de Clubes => ORG\n",
      "AdC => ORG\n"
     ]
    },
    {
     "name": "stderr",
     "output_type": "stream",
     "text": [
      " 33%|███▎      | 21/64 [00:06<00:13,  3.17it/s]"
     ]
    },
    {
     "name": "stdout",
     "output_type": "stream",
     "text": [
      "Instituto Federal de Educação, Ciência e Tecnologia de Rondônia => ORG\n",
      "Ifro => ORG\n",
      "Liga Acadêmica de Clínica Cirúrgica de Rondônia => ORG\n",
      "Laccro => ORG\n",
      "Hospital de Base Dr. Ary Pinheiro => ORG\n",
      "Fiocruz RO => ORG\n",
      "Núcleo de Vigilância Epidemiológica e Ambiental de Guajará-Mirim => ORG\n",
      "Nuvepa => ORG\n",
      "Núcleo => ORG\n",
      "Laboratório de Entomologia => ORG\n",
      "Fiocruz RO => ORG\n",
      "Nuvepa => ORG\n",
      "Guajará-Mirim => LOC\n",
      "Corpo de Bombeiros => ORG\n",
      "Agência Estadual de Vigilância em Saúde => ORG\n",
      "Agevisa => ORG\n",
      "Unidade de Assistência Médica Intensiva => ORG\n",
      "AMI => ORG\n",
      "Polícia Militar => ORG\n",
      "Centro de Medicina => ORG\n"
     ]
    },
    {
     "name": "stderr",
     "output_type": "stream",
     "text": [
      " 34%|███▍      | 22/64 [00:06<00:13,  3.06it/s]"
     ]
    },
    {
     "name": "stdout",
     "output_type": "stream",
     "text": [
      "BRASÍLIA => LOC\n",
      "Distrito Federal => LOC\n",
      "Mané Garrincha => LOC\n",
      "Controladoria-Geral do DF => PESSOA\n",
      "Diretoria de Serviços de Internação => PESSOA\n",
      "Tribunal de Contas do DF => ORG\n",
      "GLOBO => PESSOA\n",
      "DF => LOC\n",
      "Controladoria-Geral => ORG\n",
      "GDF => ORG\n",
      "SES/DF => ORG\n",
      "Secretaria Estadual de Saúde => PESSOA\n",
      "Brasília => LOC\n"
     ]
    },
    {
     "name": "stderr",
     "output_type": "stream",
     "text": [
      " 36%|███▌      | 23/64 [00:06<00:13,  2.96it/s]"
     ]
    },
    {
     "name": "stdout",
     "output_type": "stream",
     "text": [
      "Vitória => LOC\n",
      "Rio de Janeiro => LOC\n",
      "Controladoria Geral da União => ORG\n",
      "Região dos Lagos => LOC\n",
      "Nova Iguaçu => LOC\n",
      "Miracema => LOC\n",
      "Serra => LOC\n",
      "Espírito Santo => LOC\n",
      "São Pedro da Aldeia => LOC\n",
      "Armação de Búzios => LOC\n",
      "Vitória => LOC\n"
     ]
    },
    {
     "name": "stderr",
     "output_type": "stream",
     "text": [
      " 38%|███▊      | 24/64 [00:07<00:13,  2.92it/s]"
     ]
    },
    {
     "name": "stdout",
     "output_type": "stream",
     "text": [
      "RJ2 => ORG\n",
      "Rio de Janeiro => LOC\n",
      "Secretaria de Estado de Saúde => ORG\n",
      "Covid-19 => PESSOA\n",
      "Health Supllies => ORG\n",
      "RJ2 => ORG\n",
      "RJ2 => ORG\n",
      "Brasil => LOC\n",
      "Pernambuco => LOC\n",
      "RJ => LOC\n",
      "São Paulo => LOC\n",
      "Pernambuco => LOC\n",
      "governo paulista => ORG\n",
      "Rio de Janeiro => LOC\n"
     ]
    },
    {
     "name": "stderr",
     "output_type": "stream",
     "text": [
      " 39%|███▉      | 25/64 [00:07<00:13,  2.85it/s]"
     ]
    },
    {
     "name": "stdout",
     "output_type": "stream",
     "text": [
      "São Paulo => LOC\n",
      "PSL => ORG\n"
     ]
    },
    {
     "name": "stderr",
     "output_type": "stream",
     "text": [
      " 41%|████      | 26/64 [00:07<00:13,  2.84it/s]"
     ]
    },
    {
     "name": "stdout",
     "output_type": "stream",
     "text": [
      "PSDB => ORG\n",
      "Folha => ORG\n",
      "Folha => ORG\n",
      "Rio => PESSOA\n",
      "Ministério Público => ORG\n",
      "TCE => ORG\n",
      "Folha => ORG\n",
      "OAB-GO => ORG\n",
      "Ordem dos Advogados do Brasil Seção Goiás => ORG\n",
      "OAB-GO => ORG\n"
     ]
    },
    {
     "name": "stderr",
     "output_type": "stream",
     "text": [
      " 44%|████▍     | 28/64 [00:08<00:10,  3.45it/s]"
     ]
    },
    {
     "name": "stdout",
     "output_type": "stream",
     "text": [
      "Mapa => ORG\n",
      "Brasil => LOC\n",
      "O Presente Rural => ORG\n",
      "Crea/PR => ORG\n",
      "Asseapar => ORG\n"
     ]
    },
    {
     "name": "stderr",
     "output_type": "stream",
     "text": [
      " 45%|████▌     | 29/64 [00:08<00:10,  3.22it/s]"
     ]
    },
    {
     "name": "stdout",
     "output_type": "stream",
     "text": [
      "Rondônia => LOC\n",
      "Rondônia => LOC\n",
      "SEEB-RO => PESSOA\n",
      "Estado => LOC\n",
      "Ariquemes => LOC\n",
      "Ouro Preto do Oeste => LOC\n",
      "São Miguel do Guaporé => LOC\n",
      "Alta Floresta => LOC\n",
      "Madeira-Mamoré => PESSOA\n",
      "Porto Velho => LOC\n",
      "Jatuarana => LOC\n",
      "Tribunal de Justiça => PESSOA\n",
      "Ji-Paraná => LOC\n",
      "Ariquemes => LOC\n",
      "BRADESCO => PESSOA\n",
      "Itapuã => LOC\n",
      "Jaru => LOC\n",
      "Ouro Preto do Oeste => LOC\n",
      "Credijurd => PESSOA\n"
     ]
    },
    {
     "name": "stderr",
     "output_type": "stream",
     "text": [
      " 47%|████▋     | 30/64 [00:09<00:10,  3.25it/s]"
     ]
    },
    {
     "name": "stdout",
     "output_type": "stream",
     "text": [
      "Maranhão => LOC\n",
      "Maranhão => LOC\n",
      "São Luís => LOC\n",
      "São José de Ribamar => LOC\n",
      "São José de Ribamar => LOC\n",
      "São José de Ribamar => LOC\n",
      "Maranhão => LOC\n",
      "São Luís => LOC\n",
      "São Luís => LOC\n",
      "Timbiras => LOC\n",
      "Matinha => LOC\n"
     ]
    },
    {
     "name": "stderr",
     "output_type": "stream",
     "text": [
      " 48%|████▊     | 31/64 [00:09<00:10,  3.09it/s]"
     ]
    },
    {
     "name": "stdout",
     "output_type": "stream",
     "text": [
      "Nordeste => LOC\n",
      "Roraima => LOC\n",
      "Estados => LOC\n",
      "Roraima => LOC\n",
      "Estado de Minas => LOC\n",
      "Roraima => LOC\n",
      "Nordeste => LOC\n",
      "China => LOC\n"
     ]
    },
    {
     "name": "stderr",
     "output_type": "stream",
     "text": [
      " 50%|█████     | 32/64 [00:09<00:10,  3.10it/s]"
     ]
    },
    {
     "name": "stdout",
     "output_type": "stream",
     "text": [
      "Acre => LOC\n",
      "Amazonas => LOC\n",
      "Cruzeiro do Sul => LOC\n",
      "CGU => ORG\n",
      "Guajará => LOC\n",
      "Tribunal de Justiça Federal => ORG\n"
     ]
    },
    {
     "name": "stderr",
     "output_type": "stream",
     "text": [
      " 52%|█████▏    | 33/64 [00:10<00:10,  2.98it/s]"
     ]
    },
    {
     "name": "stdout",
     "output_type": "stream",
     "text": [
      "Tribunal de Contas da União => ORG\n",
      "TCU => ORG\n",
      "governo federal => ORG\n",
      "Saúde => ORG\n",
      "Cidadania => ORG\n",
      "Educação => ORG\n",
      "Economia => ORG\n",
      "Infraestrutura => PESSOA\n",
      "TCU => ORG\n",
      "TCU => ORG\n",
      "TCU => ORG\n",
      "WhatsApp Web => PESSOA\n"
     ]
    },
    {
     "name": "stderr",
     "output_type": "stream",
     "text": [
      " 53%|█████▎    | 34/64 [00:10<00:10,  2.86it/s]"
     ]
    },
    {
     "name": "stdout",
     "output_type": "stream",
     "text": [
      "Aroeiras => LOC\n",
      "Paraíba => LOC\n",
      "Aroeiras => LOC\n",
      "Fundo Nacional de Saúde => ORG\n",
      "Aroeiras => LOC\n",
      "Aroeiras => LOC\n",
      "Ministério da Saúde => ORG\n",
      "CGU => ORG\n",
      "Aroeiras => LOC\n"
     ]
    },
    {
     "name": "stderr",
     "output_type": "stream",
     "text": [
      " 55%|█████▍    | 35/64 [00:10<00:09,  3.14it/s]"
     ]
    },
    {
     "name": "stdout",
     "output_type": "stream",
     "text": [
      "Câmara dos Deputados => ORG\n",
      "PL-AM => ORG\n",
      "Agência Câmara de Notícias => PESSOA\n"
     ]
    },
    {
     "name": "stderr",
     "output_type": "stream",
     "text": [
      " 56%|█████▋    | 36/64 [00:11<00:09,  3.11it/s]"
     ]
    },
    {
     "name": "stdout",
     "output_type": "stream",
     "text": [
      "G1 => ORG\n",
      "Distrito Federal => LOC\n",
      "Brasil => LOC\n",
      "G1 => ORG\n",
      "Ministério Público de Contas => ORG\n",
      "Tribunais de Contas dos Estados => ORG\n",
      "DF => LOC\n",
      "Rio de Janeiro => LOC\n",
      "Santa Catarina => LOC\n",
      "Pará => LOC\n",
      "MDB => ORG\n",
      "Conselho Nacional dos Secretários de Saúde => ORG\n",
      "Conass => ORG\n",
      "Polícia Federal => ORG\n",
      "Ministério Público Federal => ORG\n"
     ]
    },
    {
     "name": "stderr",
     "output_type": "stream",
     "text": [
      " 58%|█████▊    | 37/64 [00:11<00:09,  2.96it/s]"
     ]
    },
    {
     "name": "stdout",
     "output_type": "stream",
     "text": [
      "Marinha => ORG\n",
      "FNDE => ORG\n",
      "Controladoria-Geral da União => ORG\n",
      "CGU => ORG\n",
      "FNDE => ORG\n",
      "FNDE => ORG\n",
      "Congresso em Foco => ORG\n",
      "FNDE => ORG\n",
      "CGU => ORG\n",
      "FNDE => ORG\n"
     ]
    },
    {
     "name": "stderr",
     "output_type": "stream",
     "text": [
      " 61%|██████    | 39/64 [00:11<00:07,  3.34it/s]"
     ]
    },
    {
     "name": "stdout",
     "output_type": "stream",
     "text": [
      "Saúde => ORG\n",
      "Tribunal de Justiça => ORG\n",
      "Prefeitura de Rondonópolis => ORG\n",
      "Munícipio => ORG\n",
      "Receita Federal => ORG\n",
      "País => ORG\n",
      "Nubank => ORG\n",
      "Nubank => ORG\n",
      "Banco Central => ORG\n",
      "Canaltech => ORG\n",
      "Canaltech => ORG\n"
     ]
    },
    {
     "name": "stderr",
     "output_type": "stream",
     "text": [
      " 62%|██████▎   | 40/64 [00:12<00:07,  3.19it/s]"
     ]
    },
    {
     "name": "stdout",
     "output_type": "stream",
     "text": [
      "Palmas => LOC\n",
      "Porto Nacional => LOC\n",
      "TO => LOC\n",
      "Brasília => LOC\n",
      "Palmas => LOC\n",
      "Porto Nacional => LOC\n",
      "TO => LOC\n",
      "Sudeste => LOC\n",
      "Aracaju => LOC\n",
      "Sergipe => LOC\n",
      "Controladoria-Geral da União => ORG\n",
      "CGU => ORG\n",
      "Aracaju => LOC\n",
      "Nossa Senhora do Socorro => LOC\n",
      "CGU => ORG\n",
      "CGU => ORG\n"
     ]
    },
    {
     "name": "stderr",
     "output_type": "stream",
     "text": [
      " 64%|██████▍   | 41/64 [00:12<00:07,  3.09it/s]"
     ]
    },
    {
     "name": "stdout",
     "output_type": "stream",
     "text": [
      "Campo Grande => LOC\n",
      "Mato Grosso do Sul => LOC\n",
      "MS => PESSOA\n",
      "Seduc => ORG\n",
      "Tribunal de Contas do Estado => ORG\n",
      "TCE => ORG\n",
      "PSC => ORG\n",
      "Mato Grosso do Sul => LOC\n"
     ]
    },
    {
     "name": "stderr",
     "output_type": "stream",
     "text": [
      " 66%|██████▌   | 42/64 [00:12<00:06,  3.17it/s]"
     ]
    },
    {
     "name": "stdout",
     "output_type": "stream",
     "text": [
      "Brasil => LOC\n",
      "Amapá => LOC\n",
      "Amazonas => LOC\n",
      "Distrito Federal => LOC\n",
      "Pará => LOC\n",
      "Rio de Janeiro => LOC\n",
      "Rio Grande do Sul => LOC\n",
      "Rondônia => LOC\n",
      "Roraima => LOC\n",
      "Santa Catarina => LOC\n",
      "Pará => LOC\n",
      "Amazonas => LOC\n",
      "PSC => ORG\n",
      "Aracaju => LOC\n",
      "SE => LOC\n",
      "Fortaleza => LOC\n",
      "CE => LOC\n",
      "Macapá => LOC\n",
      "AP => ORG\n",
      "Recife => LOC\n",
      "PE => LOC\n",
      "Rio Branco => LOC\n",
      "AC => LOC\n",
      "São Luiz => LOC\n",
      "MA => LOC\n",
      "BBC News Brasil => ORG\n",
      "CGU => ORG\n",
      "Rio Branco => LOC\n",
      "São Luís => LOC\n",
      "MA => LOC\n",
      "Rio de Janeiro => LOC\n"
     ]
    },
    {
     "name": "stderr",
     "output_type": "stream",
     "text": [
      " 69%|██████▉   | 44/64 [00:13<00:05,  3.64it/s]"
     ]
    },
    {
     "name": "stdout",
     "output_type": "stream",
     "text": [
      "ALMT => ORG\n",
      "Assembleia Legislativa => ORG\n",
      "Mato Grosso => LOC\n",
      "Mato Grosso => LOC\n",
      "Batalhão de Emergências Ambientais => ORG\n",
      "BEA => ORG\n",
      "Brasil => LOC\n",
      "Amazônia => LOC\n",
      "Sorriso => LOC\n",
      "Mato Grosso => LOC\n",
      "Ministério Público do Estado do Rio de Janeiro => ORG\n",
      "Grupo de Atuação Especializada no Combate à Corrupção => ORG\n",
      "GAECC => ORG\n",
      "MPRJ => ORG\n",
      "OZZ Saúde Eireli => ORG\n",
      "SAMU => ORG\n",
      "Corpo de Bombeiros => ORG\n",
      "Município do Rio => ORG\n"
     ]
    },
    {
     "name": "stderr",
     "output_type": "stream",
     "text": [
      " 70%|███████   | 45/64 [00:13<00:05,  3.48it/s]"
     ]
    },
    {
     "name": "stdout",
     "output_type": "stream",
     "text": [
      "Câmara de Vereadores => ORG\n",
      "Brasileira => PESSOA\n",
      "Câmara => PESSOA\n",
      "Câmara => PESSOA\n",
      "Brasileira => PESSOA\n",
      "Transjordana => PESSOA\n",
      "Diário Oficial => ORG\n",
      "Comissão Parlamentar de Inquérito => ORG\n",
      "plenário => ORG\n",
      "TCE => ORG\n"
     ]
    },
    {
     "name": "stderr",
     "output_type": "stream",
     "text": [
      " 72%|███████▏  | 46/64 [00:14<00:05,  3.35it/s]"
     ]
    },
    {
     "name": "stdout",
     "output_type": "stream",
     "text": [
      "Sala de Estado Maior => ORG\n",
      "TJ/AM => ORG\n",
      "OAB/AM => ORG\n",
      "PDT => ORG\n",
      "TRF-1 => ORG\n",
      "Greenfield => ORG\n",
      "STF => ORG\n",
      "Ministério Púbico Federal => ORG\n",
      "Lava Jato => ORG\n"
     ]
    },
    {
     "name": "stderr",
     "output_type": "stream",
     "text": [
      " 73%|███████▎  | 47/64 [00:14<00:05,  3.17it/s]"
     ]
    },
    {
     "name": "stdout",
     "output_type": "stream",
     "text": [
      "Holding Haus => ORG\n",
      "W3haus => ORG\n",
      "Orbitall => ORG\n",
      "Logbank => ORG\n",
      "White Lable => PESSOA\n",
      "Middle Market => PESSOA\n",
      "Banco Safra => ORG\n",
      "Banco Inter => ORG\n",
      "Magalu => ORG\n",
      "Logbank => ORG\n",
      "Orbitall => ORG\n",
      "Logbank => ORG\n",
      "Ipiranga => ORG\n",
      "Creditas => ORG\n",
      "Stone => ORG\n",
      "Logbank => ORG\n"
     ]
    },
    {
     "name": "stderr",
     "output_type": "stream",
     "text": [
      " 75%|███████▌  | 48/64 [00:14<00:05,  3.16it/s]"
     ]
    },
    {
     "name": "stdout",
     "output_type": "stream",
     "text": [
      "Argentina => LOC\n",
      "Buenos Aires => LOC\n",
      "Grande Buenos Aires => LOC\n",
      "IFE => ORG\n",
      "Assistência ao Trabalho e à Produção => PESSOA\n",
      "ATP => ORG\n"
     ]
    },
    {
     "name": "stderr",
     "output_type": "stream",
     "text": [
      " 77%|███████▋  | 49/64 [00:15<00:05,  2.99it/s]"
     ]
    },
    {
     "name": "stdout",
     "output_type": "stream",
     "text": [
      "Distrito Federal => LOC\n",
      "Agepar => ORG\n"
     ]
    },
    {
     "name": "stderr",
     "output_type": "stream",
     "text": [
      " 78%|███████▊  | 50/64 [00:15<00:04,  3.02it/s]"
     ]
    },
    {
     "name": "stdout",
     "output_type": "stream",
     "text": [
      "Equatorial Piauí => ORG\n",
      "Piauí => LOC\n",
      "MDB => ORG\n",
      "Prefeitura de Teresina => ORG\n",
      "Alepi => ORG\n",
      "São Raimundo Nonato => LOC\n",
      "Maranhão => LOC\n",
      "Detran => ORG\n",
      "TV Tropical => ORG\n"
     ]
    },
    {
     "name": "stderr",
     "output_type": "stream",
     "text": [
      " 81%|████████▏ | 52/64 [00:16<00:03,  3.45it/s]"
     ]
    },
    {
     "name": "stdout",
     "output_type": "stream",
     "text": [
      "Corumbá => LOC\n",
      "Mato Grosso do Sul => LOC\n",
      "Metrópoles => PESSOA\n",
      "Sindicato Nacional dos Servidores Federais da Educação Básica, Profissional e Tecnológica => PESSOA\n",
      "Sinasefe => PESSOA\n",
      "Corumbá => LOC\n",
      "Estação Radar => LOC\n",
      "Aeroporto => LOC\n",
      "Mato Grosso do Sul => LOC\n",
      "Brasil => LOC\n",
      "Sinasefe => PESSOA\n",
      "Tribunal Regional Federal da 1ª Região => ORG\n",
      "TRF-1 => ORG\n",
      "Economia => PESSOA\n",
      "Metrópoles => ORG\n",
      "Comissão de Valores Mobiliários => PESSOA\n",
      "CVM => PESSOA\n",
      "3ª Turma => ORG\n"
     ]
    },
    {
     "name": "stderr",
     "output_type": "stream",
     "text": [
      " 84%|████████▍ | 54/64 [00:16<00:02,  4.06it/s]"
     ]
    },
    {
     "name": "stdout",
     "output_type": "stream",
     "text": [
      "AFP => PESSOA\n",
      "O Dia => ORG\n",
      "Argentina => LOC\n",
      "La Patria de Oruro => ORG\n",
      "CTI => PESSOA\n",
      "MAS => PESSOA\n",
      "Casa Branca => ORG\n",
      "Hospital Presbiteriano => ORG\n",
      "Metrópoles => ORG\n",
      "The News York Times => ORG\n",
      "CNN => ORG\n"
     ]
    },
    {
     "name": "stderr",
     "output_type": "stream",
     "text": [
      " 88%|████████▊ | 56/64 [00:16<00:01,  4.77it/s]"
     ]
    },
    {
     "name": "stdout",
     "output_type": "stream",
     "text": [
      "PSOL => PESSOA\n",
      "Câmara => PESSOA\n",
      "Ministério Público do Distrito Federal => PESSOA\n",
      "Procuradoria Federal dos Direitos do Cidadão => PESSOA\n",
      "ECA => PESSOA\n",
      "Recife => LOC\n",
      "PE => LOC\n",
      "Justiça => PESSOA\n",
      "PSOL-MG => PESSOA\n",
      "Frente Parlamentar Antirracista => PESSOA\n",
      "Feminista => PESSOA\n",
      "Ministério Público do Piauí => ORG\n",
      "promotoria de justiça de Barras => ORG\n",
      "Câmara Municipal de Barras => ORG\n"
     ]
    },
    {
     "name": "stderr",
     "output_type": "stream",
     "text": [
      " 89%|████████▉ | 57/64 [00:17<00:01,  4.67it/s]"
     ]
    },
    {
     "name": "stdout",
     "output_type": "stream",
     "text": [
      "MPF-RJ => ORG\n",
      "Rede Globo => ORG\n",
      "R7 => PESSOA\n",
      "Veja => ORG\n",
      "Safra de Nova York => ORG\n",
      "Grupo Globo => ORG\n",
      "Grupo Globo => ORG\n",
      "Veja => ORG\n"
     ]
    },
    {
     "name": "stderr",
     "output_type": "stream",
     "text": [
      " 91%|█████████ | 58/64 [00:17<00:01,  3.92it/s]"
     ]
    },
    {
     "name": "stdout",
     "output_type": "stream",
     "text": [
      "VPR => ORG\n",
      "Conselho Nacional da Amazônia Legal => ORG\n",
      "Agência Brasil => ORG\n",
      "Brasil => LOC\n",
      "Forças Armadas => ORG\n",
      "Estado brasileiro => ORG\n",
      "Amazônia => LOC\n",
      "Estado brasileiro => ORG\n",
      "Forças Armadas => ORG\n",
      "Estado brasileiro => ORG\n"
     ]
    },
    {
     "name": "stderr",
     "output_type": "stream",
     "text": [
      " 92%|█████████▏| 59/64 [00:17<00:01,  3.81it/s]"
     ]
    },
    {
     "name": "stdout",
     "output_type": "stream",
     "text": [
      "Distrito Federal => LOC\n",
      "DF => LOC\n"
     ]
    },
    {
     "name": "stderr",
     "output_type": "stream",
     "text": [
      " 94%|█████████▍| 60/64 [00:18<00:01,  3.36it/s]"
     ]
    },
    {
     "name": "stdout",
     "output_type": "stream",
     "text": [
      "Câmara de Vereadores de Santa Rosa do Piauí => PESSOA\n",
      "Progressistas => PESSOA\n",
      "Governo Federal => ORG\n",
      "Cidadesnanet => ORG\n",
      "Câmara => PESSOA\n",
      "Ministério Público Federal => PESSOA\n",
      "Câmara => PESSOA\n",
      "Ministério Público Federal => PESSOA\n"
     ]
    },
    {
     "name": "stderr",
     "output_type": "stream",
     "text": [
      " 97%|█████████▋| 62/64 [00:18<00:00,  3.96it/s]"
     ]
    },
    {
     "name": "stdout",
     "output_type": "stream",
     "text": [
      "CCom => PESSOA\n",
      "Departamento Estadual de Trânsito do Piauí => ORG\n",
      "Detran-PI => ORG\n",
      "Palácio de Karnak => PESSOA\n",
      "Detran => ORG\n",
      "Departamento de Trânsito => ORG\n",
      "Piauí => LOC\n",
      "Pro-Piauí => PESSOA\n",
      "Detran => ORG\n",
      "Detran => ORG\n",
      "Detran => ORG\n",
      "CNH => ORG\n",
      "CRLV => ORG\n",
      "Detran => ORG\n",
      "Detran => ORG\n",
      "PRF => ORG\n",
      "Ciptran => ORG\n",
      "BPRE => ORG\n",
      "Strans => ORG\n",
      "US$ 360 => PESSOA\n",
      "R$ 1.932 => PESSOA\n"
     ]
    },
    {
     "name": "stderr",
     "output_type": "stream",
     "text": [
      " 98%|█████████▊| 63/64 [00:18<00:00,  3.72it/s]"
     ]
    },
    {
     "name": "stdout",
     "output_type": "stream",
     "text": [
      "Bom Princípio => LOC\n",
      "Norte do Piauí => LOC\n",
      "PT => ORG\n",
      "Portal do Rurik => ORG\n",
      "CDC => ORG\n",
      "Banco do Brasil => ORG\n",
      "Bom Princípio => LOC\n",
      "Delegacia da Policia Civil => ORG\n",
      "Parnaíba => LOC\n",
      "Portal do Rurik => ORG\n"
     ]
    },
    {
     "name": "stderr",
     "output_type": "stream",
     "text": [
      "100%|██████████| 64/64 [00:19<00:00,  3.34it/s]"
     ]
    },
    {
     "name": "stdout",
     "output_type": "stream",
     "text": [
      "Portal V1 => ORG\n",
      "Justiça => ORG\n",
      "Câmara de Vereadores => ORG\n",
      "Justiça => ORG\n"
     ]
    },
    {
     "name": "stderr",
     "output_type": "stream",
     "text": [
      "\n"
     ]
    }
   ],
   "source": [
    "saving_true =[]\n",
    "saving_pred = []\n",
    "for i in tqdm(range(len(texts))):\n",
    "\n",
    "    text = texts[i]\n",
    "    labels = list(targets[i].keys())\n",
    "    \n",
    "    entities = loaded_model.predict_entities(text,labels, threshold=0.4)\n",
    "    \n",
    "    for entity in entities:\n",
    "        print(entity[\"text\"], \"=>\", entity[\"label\"])\n",
    "        # Extract predicted entities\n",
    "        predicted_entities = {(entity[\"text\"], entity[\"label\"]) for entity in entities}\n",
    "        true_entities = {(label, entity) for label in targets[i] for entity in targets[i][label]}\n",
    "        saving_pred.append(predicted_entities)\n",
    "        saving_true.append(true_entities)\n",
    "            "
   ]
  },
  {
   "cell_type": "code",
   "execution_count": 14,
   "id": "4b152532-8842-4418-a890-1569eff852d2",
   "metadata": {},
   "outputs": [],
   "source": [
    "precision_all = []\n",
    "recall_all =[]\n",
    "f1_all = []\n",
    "for i in range(64):\n",
    "    precision, recall, f1 = metrics(y_pred_set = saving_pred[i], y_true_set=saving_true[i])\n",
    "    precision_all.append(precision)\n",
    "    recall_all.append(recall)\n",
    "    f1_all.append(f1)"
   ]
  },
  {
   "cell_type": "code",
   "execution_count": 15,
   "id": "e08be465-669c-4ed7-8b56-f3ec85104771",
   "metadata": {},
   "outputs": [
    {
     "data": {
      "text/plain": [
       "0.46953124999999996"
      ]
     },
     "execution_count": 15,
     "metadata": {},
     "output_type": "execute_result"
    }
   ],
   "source": [
    "np.mean(precision_all)"
   ]
  },
  {
   "cell_type": "code",
   "execution_count": 16,
   "id": "349d25d2-ccc5-4757-9b2e-07a187d066d4",
   "metadata": {},
   "outputs": [
    {
     "data": {
      "text/plain": [
       "0.1887479679870353"
      ]
     },
     "execution_count": 16,
     "metadata": {},
     "output_type": "execute_result"
    }
   ],
   "source": [
    "np.mean(recall_all)"
   ]
  },
  {
   "cell_type": "code",
   "execution_count": 17,
   "id": "1a66f30c-3ee3-4ee9-9b1b-0877e6b63741",
   "metadata": {},
   "outputs": [
    {
     "data": {
      "text/plain": [
       "0.2464073950551982"
      ]
     },
     "execution_count": 17,
     "metadata": {},
     "output_type": "execute_result"
    }
   ],
   "source": [
    "np.mean(f1_all)"
   ]
  }
 ],
 "metadata": {
  "kernelspec": {
   "display_name": "transf",
   "language": "python",
   "name": "transf"
  },
  "language_info": {
   "codemirror_mode": {
    "name": "ipython",
    "version": 3
   },
   "file_extension": ".py",
   "mimetype": "text/x-python",
   "name": "python",
   "nbconvert_exporter": "python",
   "pygments_lexer": "ipython3",
   "version": "3.10.12"
  }
 },
 "nbformat": 4,
 "nbformat_minor": 5
}
